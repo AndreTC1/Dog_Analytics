{
 "cells": [
  {
   "cell_type": "code",
   "execution_count": 1,
   "id": "7a0613d6",
   "metadata": {},
   "outputs": [],
   "source": [
    "import numpy as np\n",
    "import scipy as sp\n",
    "import pandas as pd\n",
    "\n",
    "import matplotlib as mpl\n",
    "import matplotlib.cm as cm\n",
    "from matplotlib.colors import ListedColormap\n",
    "import matplotlib.pyplot as plt\n",
    "import seaborn as sns\n",
    "\n",
    "from sklearn.preprocessing import OneHotEncoder as OHE\n",
    "import sklearn.model_selection\n",
    "from sklearn.model_selection import train_test_split\n",
    "from sklearn.model_selection import KFold\n",
    "from sklearn.linear_model import LogisticRegression\n",
    "from sklearn.metrics import accuracy_score, f1_score\n",
    "from sklearn.metrics import classification_report\n",
    "from sklearn.metrics import confusion_matrix\n",
    "from sklearn.metrics import ConfusionMatrixDisplay"
   ]
  },
  {
   "cell_type": "markdown",
   "id": "093da8dc",
   "metadata": {},
   "source": [
    "## Load Data"
   ]
  },
  {
   "cell_type": "code",
   "execution_count": 2,
   "id": "c4e6304f",
   "metadata": {},
   "outputs": [],
   "source": [
    "# Load updated df\n",
    "df = pd.read_csv(\"../Data/df_updated.csv\")"
   ]
  },
  {
   "cell_type": "code",
   "execution_count": 3,
   "id": "96c49884",
   "metadata": {},
   "outputs": [
    {
     "data": {
      "text/plain": [
       "(5265, 33)"
      ]
     },
     "execution_count": 3,
     "metadata": {},
     "output_type": "execute_result"
    }
   ],
   "source": [
    "df.shape"
   ]
  },
  {
   "cell_type": "code",
   "execution_count": 4,
   "id": "f372c502",
   "metadata": {},
   "outputs": [
    {
     "data": {
      "text/html": [
       "<div>\n",
       "<style scoped>\n",
       "    .dataframe tbody tr th:only-of-type {\n",
       "        vertical-align: middle;\n",
       "    }\n",
       "\n",
       "    .dataframe tbody tr th {\n",
       "        vertical-align: top;\n",
       "    }\n",
       "\n",
       "    .dataframe thead th {\n",
       "        text-align: right;\n",
       "    }\n",
       "</style>\n",
       "<table border=\"1\" class=\"dataframe\">\n",
       "  <thead>\n",
       "    <tr style=\"text-align: right;\">\n",
       "      <th></th>\n",
       "      <th>0</th>\n",
       "      <th>1</th>\n",
       "      <th>2</th>\n",
       "      <th>3</th>\n",
       "      <th>4</th>\n",
       "    </tr>\n",
       "  </thead>\n",
       "  <tbody>\n",
       "    <tr>\n",
       "      <th>Unnamed: 0</th>\n",
       "      <td>0</td>\n",
       "      <td>1</td>\n",
       "      <td>2</td>\n",
       "      <td>3</td>\n",
       "      <td>4</td>\n",
       "    </tr>\n",
       "    <tr>\n",
       "      <th>Skin symptoms</th>\n",
       "      <td>1</td>\n",
       "      <td>1</td>\n",
       "      <td>1</td>\n",
       "      <td>1</td>\n",
       "      <td>1</td>\n",
       "    </tr>\n",
       "    <tr>\n",
       "      <th>Season born</th>\n",
       "      <td>1.0</td>\n",
       "      <td>2.0</td>\n",
       "      <td>2.0</td>\n",
       "      <td>1.0</td>\n",
       "      <td>4.0</td>\n",
       "    </tr>\n",
       "    <tr>\n",
       "      <th>Heating system_house</th>\n",
       "      <td>1.0</td>\n",
       "      <td>2.0</td>\n",
       "      <td>1.0</td>\n",
       "      <td>2.0</td>\n",
       "      <td>1.0</td>\n",
       "    </tr>\n",
       "    <tr>\n",
       "      <th>House _now</th>\n",
       "      <td>NaN</td>\n",
       "      <td>2.0</td>\n",
       "      <td>3.0</td>\n",
       "      <td>4.0</td>\n",
       "      <td>3.0</td>\n",
       "    </tr>\n",
       "    <tr>\n",
       "      <th>House_before</th>\n",
       "      <td>NaN</td>\n",
       "      <td>3.0</td>\n",
       "      <td>1.0</td>\n",
       "      <td>NaN</td>\n",
       "      <td>1.0</td>\n",
       "    </tr>\n",
       "    <tr>\n",
       "      <th>Clean_house</th>\n",
       "      <td>2.0</td>\n",
       "      <td>2.0</td>\n",
       "      <td>2.0</td>\n",
       "      <td>2.0</td>\n",
       "      <td>2.0</td>\n",
       "    </tr>\n",
       "    <tr>\n",
       "      <th>Puppy_dewormed</th>\n",
       "      <td>1.0</td>\n",
       "      <td>1.0</td>\n",
       "      <td>1.0</td>\n",
       "      <td>1.0</td>\n",
       "      <td>1.0</td>\n",
       "    </tr>\n",
       "    <tr>\n",
       "      <th>Puppy_vaccinated</th>\n",
       "      <td>1.0</td>\n",
       "      <td>1.0</td>\n",
       "      <td>1.0</td>\n",
       "      <td>1.0</td>\n",
       "      <td>1.0</td>\n",
       "    </tr>\n",
       "    <tr>\n",
       "      <th>Dam_dewormed_prebirth</th>\n",
       "      <td>NaN</td>\n",
       "      <td>1.0</td>\n",
       "      <td>1.0</td>\n",
       "      <td>1.0</td>\n",
       "      <td>1.0</td>\n",
       "    </tr>\n",
       "    <tr>\n",
       "      <th>Dam_vaccinated_prebirth</th>\n",
       "      <td>0</td>\n",
       "      <td>0</td>\n",
       "      <td>0</td>\n",
       "      <td>0</td>\n",
       "      <td>0</td>\n",
       "    </tr>\n",
       "    <tr>\n",
       "      <th>Gender</th>\n",
       "      <td>1.0</td>\n",
       "      <td>2.0</td>\n",
       "      <td>2.0</td>\n",
       "      <td>2.0</td>\n",
       "      <td>2.0</td>\n",
       "    </tr>\n",
       "    <tr>\n",
       "      <th>Over 50% white</th>\n",
       "      <td>2.0</td>\n",
       "      <td>2.0</td>\n",
       "      <td>2.0</td>\n",
       "      <td>2.0</td>\n",
       "      <td>2.0</td>\n",
       "    </tr>\n",
       "    <tr>\n",
       "      <th>Other animals</th>\n",
       "      <td>1</td>\n",
       "      <td>1</td>\n",
       "      <td>2</td>\n",
       "      <td>1</td>\n",
       "      <td>2</td>\n",
       "    </tr>\n",
       "    <tr>\n",
       "      <th>Other dogs</th>\n",
       "      <td>1</td>\n",
       "      <td>2</td>\n",
       "      <td>2</td>\n",
       "      <td>2</td>\n",
       "      <td>2</td>\n",
       "    </tr>\n",
       "    <tr>\n",
       "      <th>Born in owner family</th>\n",
       "      <td>1</td>\n",
       "      <td>2</td>\n",
       "      <td>1</td>\n",
       "      <td>1</td>\n",
       "      <td>1</td>\n",
       "    </tr>\n",
       "    <tr>\n",
       "      <th>Does the dog have a yard</th>\n",
       "      <td>2.0</td>\n",
       "      <td>2.0</td>\n",
       "      <td>2.0</td>\n",
       "      <td>2.0</td>\n",
       "      <td>2.0</td>\n",
       "    </tr>\n",
       "    <tr>\n",
       "      <th>Bcs_under 2 mo</th>\n",
       "      <td>NaN</td>\n",
       "      <td>1.0</td>\n",
       "      <td>3.0</td>\n",
       "      <td>1.0</td>\n",
       "      <td>1.0</td>\n",
       "    </tr>\n",
       "    <tr>\n",
       "      <th>Outside_under 2 mo</th>\n",
       "      <td>5.0</td>\n",
       "      <td>1.0</td>\n",
       "      <td>1.0</td>\n",
       "      <td>1.0</td>\n",
       "      <td>1.0</td>\n",
       "    </tr>\n",
       "    <tr>\n",
       "      <th>Outside a day_under 5mo</th>\n",
       "      <td>NaN</td>\n",
       "      <td>3.0</td>\n",
       "      <td>3.0</td>\n",
       "      <td>2.0</td>\n",
       "      <td>NaN</td>\n",
       "    </tr>\n",
       "    <tr>\n",
       "      <th>Skin symptoms_dam</th>\n",
       "      <td>1.0</td>\n",
       "      <td>1.0</td>\n",
       "      <td>1.0</td>\n",
       "      <td>1.0</td>\n",
       "      <td>NaN</td>\n",
       "    </tr>\n",
       "    <tr>\n",
       "      <th>Age</th>\n",
       "      <td>7.0</td>\n",
       "      <td>2.0</td>\n",
       "      <td>13.0</td>\n",
       "      <td>1.0</td>\n",
       "      <td>10.0</td>\n",
       "    </tr>\n",
       "    <tr>\n",
       "      <th>Vet diagnosis</th>\n",
       "      <td>0.0</td>\n",
       "      <td>0.0</td>\n",
       "      <td>0.0</td>\n",
       "      <td>0.0</td>\n",
       "      <td>0.0</td>\n",
       "    </tr>\n",
       "    <tr>\n",
       "      <th>Breed_En</th>\n",
       "      <td>Border Collie</td>\n",
       "      <td>Border Collie</td>\n",
       "      <td>Border Collie</td>\n",
       "      <td>Border Collie</td>\n",
       "      <td>Border Collie</td>\n",
       "    </tr>\n",
       "    <tr>\n",
       "      <th>Classification</th>\n",
       "      <td>Brightest Dogs</td>\n",
       "      <td>Brightest Dogs</td>\n",
       "      <td>Brightest Dogs</td>\n",
       "      <td>Brightest Dogs</td>\n",
       "      <td>Brightest Dogs</td>\n",
       "    </tr>\n",
       "    <tr>\n",
       "      <th>Obey</th>\n",
       "      <td>95.0</td>\n",
       "      <td>95.0</td>\n",
       "      <td>95.0</td>\n",
       "      <td>95.0</td>\n",
       "      <td>95.0</td>\n",
       "    </tr>\n",
       "    <tr>\n",
       "      <th>Reps_lower</th>\n",
       "      <td>1.0</td>\n",
       "      <td>1.0</td>\n",
       "      <td>1.0</td>\n",
       "      <td>1.0</td>\n",
       "      <td>1.0</td>\n",
       "    </tr>\n",
       "    <tr>\n",
       "      <th>Reps_upper</th>\n",
       "      <td>4.0</td>\n",
       "      <td>4.0</td>\n",
       "      <td>4.0</td>\n",
       "      <td>4.0</td>\n",
       "      <td>4.0</td>\n",
       "    </tr>\n",
       "    <tr>\n",
       "      <th>Height_low_inches</th>\n",
       "      <td>19</td>\n",
       "      <td>19</td>\n",
       "      <td>19</td>\n",
       "      <td>19</td>\n",
       "      <td>19</td>\n",
       "    </tr>\n",
       "    <tr>\n",
       "      <th>Height_high_inches</th>\n",
       "      <td>21</td>\n",
       "      <td>21</td>\n",
       "      <td>21</td>\n",
       "      <td>21</td>\n",
       "      <td>21</td>\n",
       "    </tr>\n",
       "    <tr>\n",
       "      <th>Weight_low_lbs</th>\n",
       "      <td>40</td>\n",
       "      <td>40</td>\n",
       "      <td>40</td>\n",
       "      <td>40</td>\n",
       "      <td>40</td>\n",
       "    </tr>\n",
       "    <tr>\n",
       "      <th>Weight_high_lbs</th>\n",
       "      <td>40</td>\n",
       "      <td>40</td>\n",
       "      <td>40</td>\n",
       "      <td>40</td>\n",
       "      <td>40</td>\n",
       "    </tr>\n",
       "    <tr>\n",
       "      <th>Category</th>\n",
       "      <td>herding</td>\n",
       "      <td>herding</td>\n",
       "      <td>herding</td>\n",
       "      <td>herding</td>\n",
       "      <td>herding</td>\n",
       "    </tr>\n",
       "  </tbody>\n",
       "</table>\n",
       "</div>"
      ],
      "text/plain": [
       "                                       0               1               2  \\\n",
       "Unnamed: 0                             0               1               2   \n",
       "Skin symptoms                          1               1               1   \n",
       "Season born                          1.0             2.0             2.0   \n",
       "Heating system_house                 1.0             2.0             1.0   \n",
       "House _now                           NaN             2.0             3.0   \n",
       "House_before                         NaN             3.0             1.0   \n",
       "Clean_house                          2.0             2.0             2.0   \n",
       "Puppy_dewormed                       1.0             1.0             1.0   \n",
       "Puppy_vaccinated                     1.0             1.0             1.0   \n",
       "Dam_dewormed_prebirth                NaN             1.0             1.0   \n",
       "Dam_vaccinated_prebirth                0               0               0   \n",
       "Gender                               1.0             2.0             2.0   \n",
       "Over 50% white                       2.0             2.0             2.0   \n",
       "Other animals                          1               1               2   \n",
       "Other dogs                             1               2               2   \n",
       "Born in owner family                   1               2               1   \n",
       "Does the dog have a yard             2.0             2.0             2.0   \n",
       "Bcs_under 2 mo                       NaN             1.0             3.0   \n",
       "Outside_under 2 mo                   5.0             1.0             1.0   \n",
       "Outside a day_under 5mo              NaN             3.0             3.0   \n",
       "Skin symptoms_dam                    1.0             1.0             1.0   \n",
       "Age                                  7.0             2.0            13.0   \n",
       "Vet diagnosis                        0.0             0.0             0.0   \n",
       "Breed_En                   Border Collie   Border Collie   Border Collie   \n",
       "Classification            Brightest Dogs  Brightest Dogs  Brightest Dogs   \n",
       "Obey                                95.0            95.0            95.0   \n",
       "Reps_lower                           1.0             1.0             1.0   \n",
       "Reps_upper                           4.0             4.0             4.0   \n",
       "Height_low_inches                     19              19              19   \n",
       "Height_high_inches                    21              21              21   \n",
       "Weight_low_lbs                        40              40              40   \n",
       "Weight_high_lbs                       40              40              40   \n",
       "Category                         herding         herding         herding   \n",
       "\n",
       "                                       3               4  \n",
       "Unnamed: 0                             3               4  \n",
       "Skin symptoms                          1               1  \n",
       "Season born                          1.0             4.0  \n",
       "Heating system_house                 2.0             1.0  \n",
       "House _now                           4.0             3.0  \n",
       "House_before                         NaN             1.0  \n",
       "Clean_house                          2.0             2.0  \n",
       "Puppy_dewormed                       1.0             1.0  \n",
       "Puppy_vaccinated                     1.0             1.0  \n",
       "Dam_dewormed_prebirth                1.0             1.0  \n",
       "Dam_vaccinated_prebirth                0               0  \n",
       "Gender                               2.0             2.0  \n",
       "Over 50% white                       2.0             2.0  \n",
       "Other animals                          1               2  \n",
       "Other dogs                             2               2  \n",
       "Born in owner family                   1               1  \n",
       "Does the dog have a yard             2.0             2.0  \n",
       "Bcs_under 2 mo                       1.0             1.0  \n",
       "Outside_under 2 mo                   1.0             1.0  \n",
       "Outside a day_under 5mo              2.0             NaN  \n",
       "Skin symptoms_dam                    1.0             NaN  \n",
       "Age                                  1.0            10.0  \n",
       "Vet diagnosis                        0.0             0.0  \n",
       "Breed_En                   Border Collie   Border Collie  \n",
       "Classification            Brightest Dogs  Brightest Dogs  \n",
       "Obey                                95.0            95.0  \n",
       "Reps_lower                           1.0             1.0  \n",
       "Reps_upper                           4.0             4.0  \n",
       "Height_low_inches                     19              19  \n",
       "Height_high_inches                    21              21  \n",
       "Weight_low_lbs                        40              40  \n",
       "Weight_high_lbs                       40              40  \n",
       "Category                         herding         herding  "
      ]
     },
     "execution_count": 4,
     "metadata": {},
     "output_type": "execute_result"
    }
   ],
   "source": [
    "df.head().T"
   ]
  },
  {
   "cell_type": "code",
   "execution_count": 5,
   "id": "aa98d0f0",
   "metadata": {},
   "outputs": [],
   "source": [
    "df.drop('Unnamed: 0', axis=1, inplace=True)"
   ]
  },
  {
   "cell_type": "code",
   "execution_count": 6,
   "id": "bc36cafd",
   "metadata": {},
   "outputs": [],
   "source": [
    "df.drop([ 'Obey', 'Reps_lower', 'Reps_upper', 'Height_low_inches', 'Height_high_inches', 'Weight_low_lbs', 'Weight_high_lbs'], axis=1, inplace=True)"
   ]
  },
  {
   "cell_type": "code",
   "execution_count": 7,
   "id": "ed6ec007",
   "metadata": {},
   "outputs": [],
   "source": [
    "df.rename(columns = {'Skin symptoms':'Skin_symptoms'}, inplace = True)"
   ]
  },
  {
   "cell_type": "code",
   "execution_count": 8,
   "id": "15b5e247",
   "metadata": {
    "scrolled": false
   },
   "outputs": [
    {
     "name": "stdout",
     "output_type": "stream",
     "text": [
      "<class 'pandas.core.frame.DataFrame'>\n",
      "RangeIndex: 5265 entries, 0 to 5264\n",
      "Data columns (total 25 columns):\n",
      " #   Column                    Non-Null Count  Dtype  \n",
      "---  ------                    --------------  -----  \n",
      " 0   Skin_symptoms             5265 non-null   int64  \n",
      " 1   Season born               5140 non-null   float64\n",
      " 2   Heating system_house      4762 non-null   float64\n",
      " 3   House _now                5238 non-null   float64\n",
      " 4   House_before              3930 non-null   float64\n",
      " 5   Clean_house               5239 non-null   float64\n",
      " 6   Puppy_dewormed            4998 non-null   float64\n",
      " 7   Puppy_vaccinated          5080 non-null   float64\n",
      " 8   Dam_dewormed_prebirth     3524 non-null   float64\n",
      " 9   Dam_vaccinated_prebirth   5265 non-null   int64  \n",
      " 10  Gender                    5124 non-null   float64\n",
      " 11  Over 50% white            4991 non-null   float64\n",
      " 12  Other animals             5265 non-null   int64  \n",
      " 13  Other dogs                5265 non-null   int64  \n",
      " 14  Born in owner family      5265 non-null   int64  \n",
      " 15  Does the dog have a yard  4967 non-null   float64\n",
      " 16  Bcs_under 2 mo            4048 non-null   float64\n",
      " 17  Outside_under 2 mo        3754 non-null   float64\n",
      " 18  Outside a day_under 5mo   3869 non-null   float64\n",
      " 19  Skin symptoms_dam         2566 non-null   float64\n",
      " 20  Age                       5201 non-null   float64\n",
      " 21  Vet diagnosis             4524 non-null   float64\n",
      " 22  Breed_En                  5265 non-null   object \n",
      " 23  Classification            2478 non-null   object \n",
      " 24  Category                  2478 non-null   object \n",
      "dtypes: float64(17), int64(5), object(3)\n",
      "memory usage: 1.0+ MB\n"
     ]
    }
   ],
   "source": [
    "df.info()"
   ]
  },
  {
   "cell_type": "markdown",
   "id": "93ac5264",
   "metadata": {},
   "source": [
    "Given that some features are categorical (in this case most features) we will need to transform/encode these to be used in some machine learning models. We will use dummy encoding where each possible value of a feature becomes a new column, and a 1 is placed in that column if the data instance (a row of the data) contained that value, and a 0 is placed in that column otherwise."
   ]
  },
  {
   "cell_type": "code",
   "execution_count": 9,
   "id": "1acf20ed",
   "metadata": {},
   "outputs": [],
   "source": [
    "categorical_features = ['Season born',\n",
    "                        'Heating system_house',\n",
    "                        'House _now',\n",
    "                        'House_before',\n",
    "                        'Clean_house',\n",
    "                        'Puppy_dewormed',\n",
    "                        'Puppy_vaccinated',\n",
    "                        'Dam_dewormed_prebirth',\n",
    "                        'Dam_vaccinated_prebirth',\n",
    "                        'Gender',\n",
    "                        'Over 50% white',\n",
    "                        'Other animals',\n",
    "                        'Other dogs',\n",
    "                        'Born in owner family',\n",
    "                        'Does the dog have a yard',\n",
    "                        'Bcs_under 2 mo', \n",
    "                        'Outside_under 2 mo',\n",
    "                        'Outside a day_under 5mo',\n",
    "                        'Skin symptoms_dam',\n",
    "                        'Vet diagnosis']"
   ]
  },
  {
   "cell_type": "code",
   "execution_count": 10,
   "id": "c1da2342",
   "metadata": {},
   "outputs": [
    {
     "name": "stdout",
     "output_type": "stream",
     "text": [
      "The data have  5265  rows and  81  columns\n",
      "\n",
      "column names: \n",
      "\n",
      "Skin_symptoms\n",
      "Age\n",
      "Breed_En\n",
      "Classification\n",
      "Category\n",
      "Season born_1.0\n",
      "Season born_2.0\n",
      "Season born_3.0\n",
      "Season born_4.0\n",
      "Season born_nan\n",
      "Heating system_house_1.0\n",
      "Heating system_house_2.0\n",
      "Heating system_house_nan\n",
      "House _now_1.0\n",
      "House _now_2.0\n",
      "House _now_3.0\n",
      "House _now_4.0\n",
      "House _now_nan\n",
      "House_before_1.0\n",
      "House_before_2.0\n",
      "House_before_3.0\n",
      "House_before_4.0\n",
      "House_before_nan\n",
      "Clean_house_1.0\n",
      "Clean_house_2.0\n",
      "Clean_house_nan\n",
      "Puppy_dewormed_0.0\n",
      "Puppy_dewormed_1.0\n",
      "Puppy_dewormed_nan\n",
      "Puppy_vaccinated_0.0\n",
      "Puppy_vaccinated_1.0\n",
      "Puppy_vaccinated_nan\n",
      "Dam_dewormed_prebirth_0.0\n",
      "Dam_dewormed_prebirth_1.0\n",
      "Dam_dewormed_prebirth_nan\n",
      "Dam_vaccinated_prebirth_0.0\n",
      "Dam_vaccinated_prebirth_1.0\n",
      "Dam_vaccinated_prebirth_nan\n",
      "Gender_1.0\n",
      "Gender_2.0\n",
      "Gender_nan\n",
      "Over 50% white_1.0\n",
      "Over 50% white_2.0\n",
      "Over 50% white_nan\n",
      "Other animals_1.0\n",
      "Other animals_2.0\n",
      "Other animals_nan\n",
      "Other dogs_1.0\n",
      "Other dogs_2.0\n",
      "Other dogs_nan\n",
      "Born in owner family_1.0\n",
      "Born in owner family_2.0\n",
      "Born in owner family_nan\n",
      "Does the dog have a yard_1.0\n",
      "Does the dog have a yard_2.0\n",
      "Does the dog have a yard_3.0\n",
      "Does the dog have a yard_4.0\n",
      "Does the dog have a yard_nan\n",
      "Bcs_under 2 mo_1.0\n",
      "Bcs_under 2 mo_2.0\n",
      "Bcs_under 2 mo_3.0\n",
      "Bcs_under 2 mo_4.0\n",
      "Bcs_under 2 mo_5.0\n",
      "Bcs_under 2 mo_nan\n",
      "Outside_under 2 mo_1.0\n",
      "Outside_under 2 mo_2.0\n",
      "Outside_under 2 mo_3.0\n",
      "Outside_under 2 mo_4.0\n",
      "Outside_under 2 mo_5.0\n",
      "Outside_under 2 mo_nan\n",
      "Outside a day_under 5mo_1.0\n",
      "Outside a day_under 5mo_2.0\n",
      "Outside a day_under 5mo_3.0\n",
      "Outside a day_under 5mo_4.0\n",
      "Outside a day_under 5mo_nan\n",
      "Skin symptoms_dam_1.0\n",
      "Skin symptoms_dam_2.0\n",
      "Skin symptoms_dam_nan\n",
      "Vet diagnosis_0.0\n",
      "Vet diagnosis_1.0\n",
      "Vet diagnosis_nan\n"
     ]
    }
   ],
   "source": [
    "df1 = pd.get_dummies(df, columns = categorical_features, dummy_na=True).copy()\n",
    "print('The data have ', df1.shape[0], ' rows and ', df1.shape[1], ' columns\\n')\n",
    "print('column names: \\n')\n",
    "print('\\n'.join(list(df1.columns)))"
   ]
  },
  {
   "cell_type": "code",
   "execution_count": 11,
   "id": "1bb4b170",
   "metadata": {},
   "outputs": [
    {
     "name": "stdout",
     "output_type": "stream",
     "text": [
      "X:  <class 'pandas.core.frame.DataFrame'> (5265, 80)\n"
     ]
    }
   ],
   "source": [
    "#Define X\n",
    "X = df1.drop(columns = ['Skin_symptoms'])\n",
    "print(\"X: \", type(X), X.shape)"
   ]
  },
  {
   "cell_type": "code",
   "execution_count": 12,
   "id": "aff25968",
   "metadata": {},
   "outputs": [
    {
     "name": "stdout",
     "output_type": "stream",
     "text": [
      "y:  <class 'pandas.core.series.Series'> (5265,)\n"
     ]
    }
   ],
   "source": [
    "#Define y\n",
    "y = df1['Skin_symptoms']\n",
    "print(\"y: \", type(y), y.shape)"
   ]
  },
  {
   "cell_type": "code",
   "execution_count": 28,
   "id": "75a0d0c1",
   "metadata": {
    "scrolled": false
   },
   "outputs": [
    {
     "name": "stdout",
     "output_type": "stream",
     "text": [
      "Training split has  3948  rows\n",
      " and the corresponding labels have an equal number of values. (3948)\n",
      "Test split has  1317  rows\n",
      " and the corresponding labels have an equal number of values. (1317)\n"
     ]
    }
   ],
   "source": [
    "#Performing train/test split on (X/y) with stratify to try to preserve the proportions among the classes.\n",
    "Xlrstrat, Xtestlrstrat, ylrstrat, ytestlrstrat = train_test_split(X, y, random_state = 2)\n",
    "print('Training split has ', Xlrstrat.shape[0], ' rows\\n',\n",
    "      'and the corresponding labels have an equal number of values.', \n",
    "      '(' + str(len(ylrstrat))+ ')')\n",
    "print('Test split has ', Xtestlrstrat.shape[0], ' rows\\n',\n",
    "      'and the corresponding labels have an equal number of values.', \n",
    "      '(' + str(len(ytestlrstrat)) + ')')"
   ]
  },
  {
   "cell_type": "code",
   "execution_count": 29,
   "id": "f8c656ac",
   "metadata": {},
   "outputs": [
    {
     "data": {
      "text/plain": [
       "((3948, 77), (1317, 77))"
      ]
     },
     "execution_count": 29,
     "metadata": {},
     "output_type": "execute_result"
    }
   ],
   "source": [
    "names_list = ['Breed_En', 'Classification', 'Category']\n",
    "names_train = Xlrstrat[names_list]\n",
    "names_test = Xtestlrstrat[names_list]\n",
    "Xlrstrat.drop(columns=names_list, inplace=True)\n",
    "Xtestlrstrat.drop(columns=names_list, inplace=True)\n",
    "Xlrstrat.shape, Xtestlrstrat.shape"
   ]
  },
  {
   "cell_type": "code",
   "execution_count": 30,
   "id": "d85a96af",
   "metadata": {},
   "outputs": [
    {
     "data": {
      "text/plain": [
       "3.9190195071868583"
      ]
     },
     "execution_count": 30,
     "metadata": {},
     "output_type": "execute_result"
    }
   ],
   "source": [
    "X_age_mean = Xlrstrat['Age'].mean()\n",
    "X_age_mean"
   ]
  },
  {
   "cell_type": "code",
   "execution_count": 31,
   "id": "682f950f",
   "metadata": {},
   "outputs": [],
   "source": [
    "Xlrstrat['Age'] = Xlrstrat['Age'].fillna(X_age_mean)\n",
    "Xtestlrstrat['Age'] = Xtestlrstrat['Age'].fillna(X_age_mean)"
   ]
  },
  {
   "cell_type": "markdown",
   "id": "b7c6a765",
   "metadata": {},
   "source": [
    "Given that the split parameter was not included, the train_test_split is 75%/25% "
   ]
  },
  {
   "cell_type": "code",
   "execution_count": 32,
   "id": "8b5e04ef",
   "metadata": {},
   "outputs": [],
   "source": [
    "clf = LogisticRegression(solver = 'newton-cg', max_iter = 500)"
   ]
  },
  {
   "cell_type": "code",
   "execution_count": 33,
   "id": "793d05ba",
   "metadata": {},
   "outputs": [
    {
     "data": {
      "text/plain": [
       "LogisticRegression(max_iter=500, solver='newton-cg')"
      ]
     },
     "execution_count": 33,
     "metadata": {},
     "output_type": "execute_result"
    }
   ],
   "source": [
    "clf.fit(Xlrstrat, ylrstrat) "
   ]
  },
  {
   "cell_type": "code",
   "execution_count": 34,
   "id": "d0283fe6",
   "metadata": {},
   "outputs": [],
   "source": [
    "y_predict_test = clf.predict(Xtestlrstrat)\n",
    "y_predict_training = clf.predict(Xlrstrat)"
   ]
  },
  {
   "cell_type": "code",
   "execution_count": 35,
   "id": "790f2017",
   "metadata": {},
   "outputs": [
    {
     "name": "stdout",
     "output_type": "stream",
     "text": [
      "[Test] Accuracy score (y_predict_test, ytestlrstrat): 1.00\n"
     ]
    }
   ],
   "source": [
    "print(\"[Test] Accuracy score (y_predict_test, ytestlrstrat):\",\n",
    "      f'{accuracy_score(y_predict_test, ytestlrstrat):.2f}')"
   ]
  },
  {
   "cell_type": "code",
   "execution_count": 36,
   "id": "fbe49c54",
   "metadata": {},
   "outputs": [
    {
     "name": "stdout",
     "output_type": "stream",
     "text": [
      "[Training] Accuracy score: (ylrstrat, y_predict_training) 1.00\n"
     ]
    }
   ],
   "source": [
    "print(\"[Training] Accuracy score: (ylrstrat, y_predict_training)\", \n",
    "      f'{accuracy_score(ylrstrat, y_predict_training):.2f}')"
   ]
  },
  {
   "cell_type": "code",
   "execution_count": 37,
   "id": "fe1ba48b",
   "metadata": {},
   "outputs": [
    {
     "data": {
      "text/plain": [
       "<sklearn.metrics._plot.confusion_matrix.ConfusionMatrixDisplay at 0x7fc89b85c9a0>"
      ]
     },
     "execution_count": 37,
     "metadata": {},
     "output_type": "execute_result"
    },
    {
     "data": {
      "image/png": "[encoded data removed]",
      "text/plain": [
       "<Figure size 640x480 with 2 Axes>"
      ]
     },
     "metadata": {},
     "output_type": "display_data"
    }
   ],
   "source": [
    "#Visualizing predictions\n",
    "cm = confusion_matrix(ytestlrstrat, y_predict_test, labels = clf.classes_)\n",
    "_, ax = plt.subplots()\n",
    "display_cm = ConfusionMatrixDisplay(confusion_matrix = cm, \n",
    "                                    display_labels = ['no skin symptoms', 'skin symptoms'])\n",
    "ax.set_xticks([0, 1])\n",
    "ax.set_yticks([0, 1])\n",
    "ax.set_xticklabels(labels = ['no skin symptoms', 'skin symptoms'], fontsize = 8)\n",
    "ax.set_yticklabels(labels = ['no skin symptoms', 'skin symptoms'], fontsize = 8)\n",
    "display_cm.plot(ax = ax)"
   ]
  },
  {
   "cell_type": "code",
   "execution_count": 25,
   "id": "96311b48",
   "metadata": {},
   "outputs": [
    {
     "name": "stdout",
     "output_type": "stream",
     "text": [
      "              precision    recall  f1-score   support\n",
      "\n",
      "           1       1.00      1.00      1.00      3248\n",
      "           2       1.00      1.00      1.00       700\n",
      "\n",
      "    accuracy                           1.00      3948\n",
      "   macro avg       1.00      1.00      1.00      3948\n",
      "weighted avg       1.00      1.00      1.00      3948\n",
      "\n"
     ]
    }
   ],
   "source": [
    "print(classification_report(ylrstrat, y_predict_training))"
   ]
  },
  {
   "cell_type": "code",
   "execution_count": 26,
   "id": "8b8e1e0d",
   "metadata": {},
   "outputs": [
    {
     "name": "stdout",
     "output_type": "stream",
     "text": [
      "              precision    recall  f1-score   support\n",
      "\n",
      "           1       1.00      1.00      1.00      1084\n",
      "           2       1.00      1.00      1.00       233\n",
      "\n",
      "    accuracy                           1.00      1317\n",
      "   macro avg       1.00      1.00      1.00      1317\n",
      "weighted avg       1.00      1.00      1.00      1317\n",
      "\n"
     ]
    }
   ],
   "source": [
    "print(classification_report(ytestlrstrat, y_predict_test))"
   ]
  },
  {
   "cell_type": "code",
   "execution_count": null,
   "id": "5a8743ac",
   "metadata": {},
   "outputs": [],
   "source": []
  },
  {
   "cell_type": "code",
   "execution_count": null,
   "id": "2eb8381a",
   "metadata": {},
   "outputs": [],
   "source": []
  },
  {
   "cell_type": "code",
   "execution_count": null,
   "id": "917a4d82",
   "metadata": {},
   "outputs": [],
   "source": []
  },
  {
   "cell_type": "code",
   "execution_count": null,
   "id": "34f1abc3",
   "metadata": {},
   "outputs": [],
   "source": []
  },
  {
   "cell_type": "code",
   "execution_count": null,
   "id": "25237a2e",
   "metadata": {},
   "outputs": [],
   "source": []
  },
  {
   "cell_type": "code",
   "execution_count": null,
   "id": "7f60c0ba",
   "metadata": {},
   "outputs": [],
   "source": []
  },
  {
   "cell_type": "code",
   "execution_count": null,
   "id": "3681cda0",
   "metadata": {},
   "outputs": [],
   "source": []
  },
  {
   "cell_type": "markdown",
   "id": "abe2c60e",
   "metadata": {},
   "source": [
    "## Summary \n",
    "I have questions  "
   ]
  },
  {
   "cell_type": "code",
   "execution_count": null,
   "id": "8ffa7e51",
   "metadata": {},
   "outputs": [],
   "source": []
  }
 ],
 "metadata": {
  "kernelspec": {
   "display_name": "Python 3 (ipykernel)",
   "language": "python",
   "name": "python3"
  },
  "language_info": {
   "codemirror_mode": {
    "name": "ipython",
    "version": 3
   },
   "file_extension": ".py",
   "mimetype": "text/x-python",
   "name": "python",
   "nbconvert_exporter": "python",
   "pygments_lexer": "ipython3",
   "version": "3.9.13"
  }
 },
 "nbformat": 4,
 "nbformat_minor": 5
}
